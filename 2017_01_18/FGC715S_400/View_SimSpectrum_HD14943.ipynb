{
 "cells": [
  {
   "cell_type": "markdown",
   "metadata": {},
   "source": [
    "# View the simulated spectrum of CTIO Data in January 2017\n",
    "==================================================================================================\n",
    "\n",
    "- author : Sylvie Dagoret-Campagne\n",
    "- date   : January 19th 2017\n",
    "- update : January 24th\n",
    "\n",
    "\n",
    "This reads all the simulated fits spectra in order to build a single fits file of all simulated spectra.\n"
   ]
  },
  {
   "cell_type": "code",
   "execution_count": 5,
   "metadata": {
    "collapsed": false
   },
   "outputs": [
    {
     "data": {
      "application/javascript": [
       "var kernel = IPython.notebook.kernel;\n",
       "var thename = window.document.getElementById(\"notebook_name\").innerHTML;\n",
       "var command = \"theNotebook = \" + \"'\"+thename+\"'\";\n",
       "kernel.execute(command);"
      ],
      "text/plain": [
       "<IPython.core.display.Javascript object>"
      ]
     },
     "metadata": {},
     "output_type": "display_data"
    }
   ],
   "source": [
    "%%javascript\n",
    "var kernel = IPython.notebook.kernel;\n",
    "var thename = window.document.getElementById(\"notebook_name\").innerHTML;\n",
    "var command = \"theNotebook = \" + \"'\"+thename+\"'\";\n",
    "kernel.execute(command);"
   ]
  },
  {
   "cell_type": "code",
   "execution_count": 6,
   "metadata": {
    "collapsed": false
   },
   "outputs": [
    {
     "name": "stdout",
     "output_type": "stream",
     "text": [
      "View_SimSpectrum_HD14943\n"
     ]
    }
   ],
   "source": [
    "print theNotebook"
   ]
  },
  {
   "cell_type": "code",
   "execution_count": 7,
   "metadata": {
    "collapsed": true
   },
   "outputs": [],
   "source": [
    "%matplotlib inline\n",
    "import matplotlib.pyplot as plt\n",
    "import numpy as np\n",
    "\n",
    "from astropy.modeling import models\n",
    "from astropy import units as u\n",
    "from astropy import nddata\n",
    "from astropy.io import fits\n",
    "import re\n",
    "import os"
   ]
  },
  {
   "cell_type": "code",
   "execution_count": 8,
   "metadata": {
    "collapsed": false
   },
   "outputs": [
    {
     "name": "stdout",
     "output_type": "stream",
     "text": [
      "ccdproc version 1.0.1\n"
     ]
    }
   ],
   "source": [
    "import ccdproc\n",
    "print 'ccdproc version',ccdproc.__version__\n",
    "\n",
    "from astropy.modeling import models"
   ]
  },
  {
   "cell_type": "code",
   "execution_count": 9,
   "metadata": {
    "collapsed": true
   },
   "outputs": [],
   "source": [
    "from scipy import stats  \n",
    "from scipy import ndimage\n",
    "from datetime import datetime, timedelta\n",
    "from mpl_toolkits.mplot3d import Axes3D\n",
    "import scipy.signal"
   ]
  },
  {
   "cell_type": "code",
   "execution_count": 10,
   "metadata": {
    "collapsed": false
   },
   "outputs": [
    {
     "name": "stdout",
     "output_type": "stream",
     "text": [
      "bottleneck version 1.0.0\n"
     ]
    }
   ],
   "source": [
    "import bottleneck as bn  # numpy's masked median is slow...really slow (in version 1.8.1 and lower)\n",
    "print 'bottleneck version',bn.__version__"
   ]
  },
  {
   "cell_type": "code",
   "execution_count": 11,
   "metadata": {
    "collapsed": true
   },
   "outputs": [],
   "source": [
    "import photutils\n",
    "from astropy.stats import sigma_clipped_stats\n",
    "from photutils import daofind\n",
    "from photutils import CircularAperture\n",
    "from astropy.visualization import SqrtStretch\n",
    "from astropy.visualization.mpl_normalize import ImageNormalize\n",
    "#from photutils.background import Background2D\n",
    "from photutils import Background2D, SigmaClip, MedianBackground"
   ]
  },
  {
   "cell_type": "code",
   "execution_count": 12,
   "metadata": {
    "collapsed": false
   },
   "outputs": [],
   "source": [
    "%load_ext Cython"
   ]
  },
  {
   "cell_type": "code",
   "execution_count": 13,
   "metadata": {
    "collapsed": true
   },
   "outputs": [],
   "source": [
    "from IPython.display import Image, display"
   ]
  },
  {
   "cell_type": "code",
   "execution_count": 14,
   "metadata": {
    "collapsed": true
   },
   "outputs": [],
   "source": [
    "import matplotlib\n",
    "matplotlib.rc('xtick', labelsize=20) \n",
    "matplotlib.rc('ytick', labelsize=20) "
   ]
  },
  {
   "cell_type": "code",
   "execution_count": 15,
   "metadata": {
    "collapsed": false
   },
   "outputs": [],
   "source": [
    "# to enlarge the sizes\n",
    "params = {'legend.fontsize': 'x-large',\n",
    "          'figure.figsize': (4, 4),\n",
    "         'axes.labelsize': 'x-large',\n",
    "         'axes.titlesize':'x-large',\n",
    "         'xtick.labelsize':'x-large',\n",
    "         'ytick.labelsize':'x-large'}\n",
    "plt.rcParams.update(params)"
   ]
  },
  {
   "cell_type": "code",
   "execution_count": 16,
   "metadata": {
    "collapsed": true
   },
   "outputs": [],
   "source": [
    "############################################################################\n",
    "def ensure_dir(f):\n",
    "    d = os.path.dirname(f)\n",
    "    if not os.path.exists(f):\n",
    "        os.makedirs(f)\n",
    "#########################################################################"
   ]
  },
  {
   "cell_type": "code",
   "execution_count": 17,
   "metadata": {
    "collapsed": true
   },
   "outputs": [],
   "source": [
    "\n",
    "object_name='HD14943'"
   ]
  },
  {
   "cell_type": "markdown",
   "metadata": {},
   "source": [
    "### Output directory for images generated in the notebook view (not true fits images)"
   ]
  },
  {
   "cell_type": "code",
   "execution_count": 18,
   "metadata": {
    "collapsed": true
   },
   "outputs": [],
   "source": [
    "dir_top_images=\"images_notebooks/\"+theNotebook ### Top directory to save images"
   ]
  },
  {
   "cell_type": "code",
   "execution_count": 19,
   "metadata": {
    "collapsed": true
   },
   "outputs": [],
   "source": [
    "ensure_dir(dir_top_images)"
   ]
  },
  {
   "cell_type": "markdown",
   "metadata": {},
   "source": [
    "### Fits Output file\n",
    "--------------------\n",
    "\n",
    "- Gather the simulate spectra in a single fits file\n",
    "- This is because one is limited in the number of fits file whcih can be open\n",
    "- Used in a latter step."
   ]
  },
  {
   "cell_type": "code",
   "execution_count": 20,
   "metadata": {
    "collapsed": true
   },
   "outputs": [],
   "source": [
    "outputfitsfile='AllSimSpectra_'+object_name+'.fits'"
   ]
  },
  {
   "cell_type": "code",
   "execution_count": 21,
   "metadata": {
    "collapsed": false
   },
   "outputs": [],
   "source": [
    "#ensure_dir(outputdir)"
   ]
  },
  {
   "cell_type": "markdown",
   "metadata": {},
   "source": [
    "### Input fits file\n",
    "-----------------\n",
    "- Location of the simulated spectra for the dataset"
   ]
  },
  {
   "cell_type": "code",
   "execution_count": 22,
   "metadata": {
    "collapsed": true
   },
   "outputs": [],
   "source": [
    "#simspecdir='/Users/dagoret-campagnesylvie/MacOsX/LSST/MyWork/GitHub/CTIOAna2017/simu_spectra/fits/HD14943/2017_01'\n",
    "simspecdir='/Users/dagoret-campagnesylvie/MacOsX/LSST/MyWork/GitHub/CTIOAna2017/simu_spectra/fits/HD14943/2017_01_18/FGC715S_400'"
   ]
  },
  {
   "cell_type": "code",
   "execution_count": 23,
   "metadata": {
    "collapsed": false
   },
   "outputs": [
    {
     "name": "stdout",
     "output_type": "stream",
     "text": [
      "/Users/dagoret-campagnesylvie/MacOsX/LSST/MyWork/GitHub/CTIOAna2017/2017_01_18/FGC715S_400\r\n"
     ]
    }
   ],
   "source": [
    "!pwd"
   ]
  },
  {
   "cell_type": "markdown",
   "metadata": {},
   "source": [
    "## Read the simulated spectra"
   ]
  },
  {
   "cell_type": "code",
   "execution_count": 24,
   "metadata": {
    "collapsed": true
   },
   "outputs": [],
   "source": [
    "inputsim_filelist=os.listdir(simspecdir) "
   ]
  },
  {
   "cell_type": "code",
   "execution_count": 25,
   "metadata": {
    "collapsed": true
   },
   "outputs": [],
   "source": [
    "if '.DS_Store' in inputsim_filelist:\n",
    "    inputsim_filelist.remove('.DS_Store')\n",
    "inputsim_filelist=np.array(inputsim_filelist)"
   ]
  },
  {
   "cell_type": "code",
   "execution_count": 26,
   "metadata": {
    "collapsed": false
   },
   "outputs": [
    {
     "name": "stdout",
     "output_type": "stream",
     "text": [
      "['RT_CT_pp_us_sa_rt_HD14943_Nev247_y2016_m01_aver_spectra.fits'\n",
      " 'RT_CT_pp_us_sa_rt_HD14943_Nev249_y2016_m01_aver_spectra.fits'\n",
      " 'RT_CT_pp_us_sa_rt_HD14943_Nev251_y2016_m01_aver_spectra.fits'\n",
      " 'RT_CT_pp_us_sa_rt_HD14943_Nev253_y2016_m01_aver_spectra.fits']\n"
     ]
    }
   ],
   "source": [
    "print inputsim_filelist[0:5]"
   ]
  },
  {
   "cell_type": "code",
   "execution_count": 27,
   "metadata": {
    "collapsed": false
   },
   "outputs": [
    {
     "name": "stdout",
     "output_type": "stream",
     "text": [
      "['247']\n"
     ]
    }
   ],
   "source": [
    "print re.findall('^RT_CT_pp_us_sa_rt_HD14943_Nev(.*)_y2016_m01_aver_spectra.fits',inputsim_filelist[0])"
   ]
  },
  {
   "cell_type": "code",
   "execution_count": 28,
   "metadata": {
    "collapsed": true
   },
   "outputs": [],
   "source": [
    "indexes_simfiles= [] # global list\n",
    "filelist_simfitspec= []  # global list"
   ]
  },
  {
   "cell_type": "code",
   "execution_count": 29,
   "metadata": {
    "collapsed": true
   },
   "outputs": [],
   "source": [
    "#%%cython\n",
    "\n",
    "import numpy as np\n",
    "import re\n",
    "\n",
    "def MakeSimFileList(inputdir,input_filelist):\n",
    "    \"\"\"\n",
    "    MakeFileList : Make The List of files to open\n",
    "    =============\n",
    "    \"\"\"\n",
    "    \n",
    "#    import numpy as np\n",
    "#    import re\n",
    "    indexes_files= [] # global list\n",
    "    filelist_fitsimages= []  # global list\n",
    "    index=0\n",
    "\n",
    "    \n",
    "    for file in input_filelist: # loop on directories, one per image       \n",
    "            filename=inputdir+'/'+file\n",
    "            if re.search('.*fits$',filename):  #example of filename filter\n",
    "                index=index+1\n",
    "                filelist_fitsimages.append(filename)\n",
    "                str_num=re.findall('^RT_CT_pp_us_sa_rt_HD14943_Nev(.*)_y2016_m01_aver_spectra.fits',file)\n",
    "                number=int(str_num[0])\n",
    "                indexes_files.append(number)\n",
    "    return indexes_files, filelist_fitsimages"
   ]
  },
  {
   "cell_type": "code",
   "execution_count": 30,
   "metadata": {
    "collapsed": false
   },
   "outputs": [],
   "source": [
    "indexes_simfiles, filelist_simfitspec=MakeSimFileList(simspecdir,inputsim_filelist)   # filter to take only fits file"
   ]
  },
  {
   "cell_type": "code",
   "execution_count": 31,
   "metadata": {
    "collapsed": true
   },
   "outputs": [],
   "source": [
    "# transform into numpy arrays\n",
    "indexes_simfiles=np.array(indexes_simfiles)\n",
    "filelist_simfitspec=np.array(filelist_simfitspec)"
   ]
  },
  {
   "cell_type": "code",
   "execution_count": 32,
   "metadata": {
    "collapsed": false
   },
   "outputs": [
    {
     "name": "stdout",
     "output_type": "stream",
     "text": [
      "[247 249 251 253]\n"
     ]
    }
   ],
   "source": [
    "print indexes_simfiles"
   ]
  },
  {
   "cell_type": "code",
   "execution_count": 33,
   "metadata": {
    "collapsed": true
   },
   "outputs": [],
   "source": [
    "sorted_simindexes=np.argsort(indexes_simfiles) # sort the file indexes"
   ]
  },
  {
   "cell_type": "code",
   "execution_count": 34,
   "metadata": {
    "collapsed": false
   },
   "outputs": [
    {
     "data": {
      "text/plain": [
       "array([0, 1, 2, 3])"
      ]
     },
     "execution_count": 34,
     "metadata": {},
     "output_type": "execute_result"
    }
   ],
   "source": [
    "sorted_simindexes"
   ]
  },
  {
   "cell_type": "code",
   "execution_count": 35,
   "metadata": {
    "collapsed": true
   },
   "outputs": [],
   "source": [
    "sorted_simnumbers=indexes_simfiles[sorted_simindexes] # check the ordering with argsort is correct"
   ]
  },
  {
   "cell_type": "code",
   "execution_count": 36,
   "metadata": {
    "collapsed": false
   },
   "outputs": [
    {
     "name": "stdout",
     "output_type": "stream",
     "text": [
      "[247 249 251 253]\n"
     ]
    }
   ],
   "source": [
    "print sorted_simnumbers # check"
   ]
  },
  {
   "cell_type": "code",
   "execution_count": 37,
   "metadata": {
    "collapsed": true
   },
   "outputs": [],
   "source": [
    "sorted_simfiles=filelist_simfitspec[sorted_simindexes] # now sort the filenames"
   ]
  },
  {
   "cell_type": "code",
   "execution_count": 38,
   "metadata": {
    "collapsed": false
   },
   "outputs": [
    {
     "name": "stdout",
     "output_type": "stream",
     "text": [
      "[ '/Users/dagoret-campagnesylvie/MacOsX/LSST/MyWork/GitHub/CTIOAna2017/simu_spectra/fits/HD14943/2017_01_18/FGC715S_400/RT_CT_pp_us_sa_rt_HD14943_Nev247_y2016_m01_aver_spectra.fits'\n",
      " '/Users/dagoret-campagnesylvie/MacOsX/LSST/MyWork/GitHub/CTIOAna2017/simu_spectra/fits/HD14943/2017_01_18/FGC715S_400/RT_CT_pp_us_sa_rt_HD14943_Nev249_y2016_m01_aver_spectra.fits'\n",
      " '/Users/dagoret-campagnesylvie/MacOsX/LSST/MyWork/GitHub/CTIOAna2017/simu_spectra/fits/HD14943/2017_01_18/FGC715S_400/RT_CT_pp_us_sa_rt_HD14943_Nev251_y2016_m01_aver_spectra.fits'\n",
      " '/Users/dagoret-campagnesylvie/MacOsX/LSST/MyWork/GitHub/CTIOAna2017/simu_spectra/fits/HD14943/2017_01_18/FGC715S_400/RT_CT_pp_us_sa_rt_HD14943_Nev253_y2016_m01_aver_spectra.fits']\n"
     ]
    }
   ],
   "source": [
    "print sorted_simfiles[0:5] # check"
   ]
  },
  {
   "cell_type": "code",
   "execution_count": 39,
   "metadata": {
    "collapsed": false
   },
   "outputs": [],
   "source": [
    "hdu_list=fits.open(sorted_simfiles[0])\n",
    "header=hdu_list[0].header"
   ]
  },
  {
   "cell_type": "code",
   "execution_count": 40,
   "metadata": {
    "collapsed": false
   },
   "outputs": [
    {
     "name": "stdout",
     "output_type": "stream",
     "text": [
      "SIMPLE  =                    T / conforms to FITS standard                      BITPIX  =                    8 / array data type                                NAXIS   =                    0 / number of array dimensions                     EXTEND  =                    T                                                  OBJ_NAME= 'HD14943 '                                                            AIRMASS =    1.388000011444092                                                  UNITS   = 'wavelength in nm'                                                    DATE    = '2017-01-19T02:42:45.209'                                             EXPOSURE=                 60.0                                                  FILENAME= 'trim_20170118_247.fits'                                              COMMENT Prediction of observable SPECTRA                                        END                                                                                                                                                                                                                                                                                                                                                                                                                                                                                                                                                                                                                                                                                                                                                                                                                                                                                                                                                                                                                                                                                                                                                                                                                                                                                                                                                                                                                                                                                                                                                                                                                                                                                                                                                                                                                                                                                                                                                                                                                                                                             \n"
     ]
    }
   ],
   "source": [
    "print header"
   ]
  },
  {
   "cell_type": "code",
   "execution_count": 41,
   "metadata": {
    "collapsed": true
   },
   "outputs": [],
   "source": [
    " table_data=hdu_list[1].data"
   ]
  },
  {
   "cell_type": "code",
   "execution_count": 42,
   "metadata": {
    "collapsed": false
   },
   "outputs": [
    {
     "name": "stdout",
     "output_type": "stream",
     "text": [
      "ColDefs(\n",
      "    name = 'WAVELENGTH'; format = 'E'\n",
      "    name = 'SEDcalspec'; format = 'E'\n",
      "    name = 'Atmosphere'; format = 'E'\n",
      "    name = 'QE'; format = 'E'\n",
      "    name = 'SEDxQExATM'; format = 'E'\n",
      ")\n"
     ]
    }
   ],
   "source": [
    "print table_data.columns"
   ]
  },
  {
   "cell_type": "code",
   "execution_count": 43,
   "metadata": {
    "collapsed": true
   },
   "outputs": [],
   "source": [
    "simwavelength = table_data.field('WAVELENGTH')\n",
    "simsed        = table_data.field('SEDcalspec')\n",
    "simatm        = table_data.field('Atmosphere')\n",
    "simqe         = table_data.field('QE')\n",
    "simspectra    = table_data.field('SEDxQExATM')"
   ]
  },
  {
   "cell_type": "code",
   "execution_count": 44,
   "metadata": {
    "collapsed": false
   },
   "outputs": [
    {
     "data": {
      "text/plain": [
       "[<matplotlib.lines.Line2D at 0x10c676690>]"
      ]
     },
     "execution_count": 44,
     "metadata": {},
     "output_type": "execute_result"
    },
    {
     "data": {
      "image/png": "[encoded data removed]",
      "text/plain": [
       "<matplotlib.figure.Figure at 0x10c6a1b10>"
      ]
     },
     "metadata": {},
     "output_type": "display_data"
    }
   ],
   "source": [
    "plt.plot(simwavelength,simspectra )"
   ]
  },
  {
   "cell_type": "code",
   "execution_count": 45,
   "metadata": {
    "collapsed": false
   },
   "outputs": [],
   "source": [
    "#%%cython\n",
    "\n",
    "#import numpy as np\n",
    "#from astropy.io import fits\n",
    "def BuildSimSpec(sorted_filenames,sorted_numbers,object_name):\n",
    "    \"\"\"\n",
    "    BuildSimSpec\n",
    "    ===============\n",
    "    \"\"\"\n",
    "\n",
    "    all_dates = []\n",
    "    all_airmass = []\n",
    "    \n",
    "    all_simwavelength = []\n",
    "    all_simspectra = []\n",
    "    all_simatmosphere = []\n",
    "    all_simqe = []\n",
    "    all_simsed = []\n",
    "    \n",
    "    all_titles = []\n",
    "    all_header = []\n",
    "    all_expo = []\n",
    "   \n",
    "    NBFILES=sorted_filenames.shape[0]\n",
    "\n",
    "    for idx in range(NBFILES):  \n",
    "        \n",
    "\n",
    "        file=sorted_filenames[idx]    \n",
    "        \n",
    "        hdu_list=fits.open(file)\n",
    "        header=hdu_list[0].header\n",
    "                \n",
    "        #print header\n",
    "        date_obs = header['DATE']\n",
    "        airmass = header['AIRMASS']\n",
    "        expo = header['EXPOSURE']\n",
    "        num=sorted_numbers[idx]\n",
    "        title=object_name+\" z= {:3.2f} Nb={}\".format(float(airmass),num)\n",
    "        \n",
    "        # now reads the spectra\n",
    "        \n",
    "        table_data=hdu_list[1].data\n",
    "        \n",
    "        simwavelength = table_data.field('WAVELENGTH')\n",
    "        simsed        = table_data.field('SEDcalspec')\n",
    "        simatm        = table_data.field('Atmosphere')\n",
    "        simqe         = table_data.field('QE')\n",
    "        simspectra    = table_data.field('SEDxQExATM')\n",
    "        \n",
    "        \n",
    "        all_simwavelength.append(simwavelength)\n",
    "        all_simspectra.append(simspectra)\n",
    "        all_simatmosphere.append(simatm)\n",
    "        all_simqe.append(simqe)\n",
    "        all_simsed.append(simsed)\n",
    "        \n",
    "        all_dates.append(date_obs)\n",
    "        all_airmass.append(float(airmass))\n",
    "            \n",
    "        all_titles.append(title)\n",
    "        all_header.append(header)\n",
    "        all_expo.append(expo)\n",
    "        hdu_list.close()\n",
    "        \n",
    "    return all_dates,all_airmass,all_titles,all_header,all_expo,all_simwavelength,all_simspectra,all_simatmosphere,all_simqe,all_simsed"
   ]
  },
  {
   "cell_type": "code",
   "execution_count": 46,
   "metadata": {
    "collapsed": false
   },
   "outputs": [],
   "source": [
    "all_simdates,all_simairmass,all_simtitles,all_simheader,all_simexpo,all_simwavelength,all_simspectra,all_simatmosphere,all_simqe,all_simsed=BuildSimSpec(sorted_simfiles,sorted_simnumbers,object_name)"
   ]
  },
  {
   "cell_type": "code",
   "execution_count": 47,
   "metadata": {
    "collapsed": false
   },
   "outputs": [],
   "source": [
    "%%cython\n",
    "import numpy as np\n",
    "import matplotlib.pyplot as plt\n",
    "import os\n",
    "\n",
    "def ShowSpectra(all_wavelength,all_simspec,all_simtitles,object_name,dir_top_images):\n",
    "    \"\"\"\n",
    "    ShowSpectra: Show the raw images without background subtraction\n",
    "    ==============\n",
    "    \"\"\"\n",
    "    NBIMAGES=len(all_simspec)\n",
    "    MAXIMGROW=int(NBIMAGES/4)+1\n",
    "    thex0 = []\n",
    "    f, axarr = plt.subplots(MAXIMGROW,4,figsize=(25,5))\n",
    "    f.tight_layout()\n",
    "    #plt.subplot_tool() \n",
    "    for index in np.arange(0,NBIMAGES):\n",
    "        ix=index%4\n",
    "        iy=index/4\n",
    "        wavelength=all_wavelength[index]\n",
    "        spectrum=all_simspec[index]\n",
    "        axarr[iy,ix].plot(wavelength,spectrum,'r-',lw=2)\n",
    "        axarr[iy,ix].set_title(all_simtitles[index])\n",
    "        #axarr[iy,ix].set_ylim(0.,200.)\n",
    "        axarr[iy,ix].grid(True)\n",
    "      \n",
    "    title='simulated spectra spectra'\n",
    "    plt.suptitle(title,size=16)\n",
    "    figfilename=os.path.join(dir_top_images,'simulatedspectra.pdf')\n",
    "    plt.savefig(figfilename)         "
   ]
  },
  {
   "cell_type": "code",
   "execution_count": 48,
   "metadata": {
    "collapsed": false
   },
   "outputs": [
    {
     "data": {
      "text/plain": [
       "[<matplotlib.lines.Line2D at 0x10c87f390>]"
      ]
     },
     "execution_count": 48,
     "metadata": {},
     "output_type": "execute_result"
    },
    {
     "data": {
      "image/png": "[encoded data removed]",
      "text/plain": [
       "<matplotlib.figure.Figure at 0x106a31a50>"
      ]
     },
     "metadata": {},
     "output_type": "display_data"
    }
   ],
   "source": [
    "plt.plot(all_simwavelength[1])"
   ]
  },
  {
   "cell_type": "code",
   "execution_count": 49,
   "metadata": {
    "collapsed": false
   },
   "outputs": [
    {
     "ename": "IndexError",
     "evalue": "too many indices for array",
     "output_type": "error",
     "traceback": [
      "\u001b[0;31m---------------------------------------------------------------------------\u001b[0m",
      "\u001b[0;31mIndexError\u001b[0m                                Traceback (most recent call last)",
      "\u001b[0;32m<ipython-input-49-161b75ac4c23>\u001b[0m in \u001b[0;36m<module>\u001b[0;34m()\u001b[0m\n\u001b[0;32m----> 1\u001b[0;31m \u001b[0mShowSpectra\u001b[0m\u001b[0;34m(\u001b[0m\u001b[0mall_simwavelength\u001b[0m\u001b[0;34m,\u001b[0m\u001b[0mall_simspectra\u001b[0m\u001b[0;34m,\u001b[0m\u001b[0mall_simtitles\u001b[0m\u001b[0;34m,\u001b[0m\u001b[0mobject_name\u001b[0m\u001b[0;34m,\u001b[0m\u001b[0mdir_top_images\u001b[0m\u001b[0;34m)\u001b[0m\u001b[0;34m\u001b[0m\u001b[0m\n\u001b[0m",
      "\u001b[0;32m_cython_magic_71a7527269c77ba3985cc682e502415f.pyx\u001b[0m in \u001b[0;36m_cython_magic_71a7527269c77ba3985cc682e502415f.ShowSpectra (/Users/dagoret-campagnesylvie/.ipython/cython/_cython_magic_71a7527269c77ba3985cc682e502415f.c:1386)\u001b[0;34m()\u001b[0m\n",
      "\u001b[0;31mIndexError\u001b[0m: too many indices for array"
     ]
    },
    {
     "data": {
      "image/png": "[encoded data removed]",
      "text/plain": [
       "<matplotlib.figure.Figure at 0x10c8acad0>"
      ]
     },
     "metadata": {},
     "output_type": "display_data"
    }
   ],
   "source": [
    "ShowSpectra(all_simwavelength,all_simspectra,all_simtitles,object_name,dir_top_images)"
   ]
  },
  {
   "cell_type": "code",
   "execution_count": null,
   "metadata": {
    "collapsed": false
   },
   "outputs": [],
   "source": [
    "plt.plot(all_simspectra[0])"
   ]
  },
  {
   "cell_type": "code",
   "execution_count": null,
   "metadata": {
    "collapsed": false
   },
   "outputs": [],
   "source": [
    "len(all_simwavelength[0])"
   ]
  },
  {
   "cell_type": "code",
   "execution_count": null,
   "metadata": {
    "collapsed": true
   },
   "outputs": [],
   "source": []
  },
  {
   "cell_type": "code",
   "execution_count": null,
   "metadata": {
    "collapsed": false
   },
   "outputs": [],
   "source": [
    "def MakeSimNpArray(all_simwavelength,all_simspectra):\n",
    "    \n",
    "    all_simspectra=np.array(all_simspectra)\n",
    "    simwavelength=np.array(all_simwavelength[0])\n",
    "    \n",
    "    NBSPEC=all_simspectra.shape[0]\n",
    "    NBWL=simwavelength.shape[0]\n",
    "    \n",
    "    print NBSPEC,' , ',NBWL\n",
    "    dataout=np.zeros((NBSPEC+1,NBWL))\n",
    "    \n",
    "    dataout[0,:]=simwavelength\n",
    "    \n",
    "    for ispec in np.arange(1,NBSPEC+1):\n",
    "        dataout[ispec,:]=all_simspectra[ispec-1]\n",
    "    return dataout\n",
    "    "
   ]
  },
  {
   "cell_type": "code",
   "execution_count": null,
   "metadata": {
    "collapsed": false
   },
   "outputs": [],
   "source": [
    "spectra_out=MakeSimNpArray(all_simwavelength,all_simspectra)"
   ]
  },
  {
   "cell_type": "code",
   "execution_count": null,
   "metadata": {
    "collapsed": false
   },
   "outputs": [],
   "source": [
    "spectra_out.shape"
   ]
  },
  {
   "cell_type": "code",
   "execution_count": null,
   "metadata": {
    "collapsed": false
   },
   "outputs": [],
   "source": [
    "spectra_out[0,:]"
   ]
  },
  {
   "cell_type": "code",
   "execution_count": null,
   "metadata": {
    "collapsed": false
   },
   "outputs": [],
   "source": [
    "plt.figure(figsize=(20,20))\n",
    "plt.imshow(spectra_out[:,:],vmin=0,vmax=1e-8)"
   ]
  },
  {
   "cell_type": "code",
   "execution_count": null,
   "metadata": {
    "collapsed": false
   },
   "outputs": [],
   "source": [
    "plt.plot(spectra_out[0,:])"
   ]
  },
  {
   "cell_type": "code",
   "execution_count": null,
   "metadata": {
    "collapsed": false
   },
   "outputs": [],
   "source": [
    "plt.plot(spectra_out[1,:])"
   ]
  },
  {
   "cell_type": "markdown",
   "metadata": {},
   "source": [
    "### Save output fits file"
   ]
  },
  {
   "cell_type": "code",
   "execution_count": null,
   "metadata": {
    "collapsed": false
   },
   "outputs": [],
   "source": [
    "prihdu = fits.PrimaryHDU(data=spectra_out)\n",
    "thdulist = fits.HDUList(prihdu)\n",
    "thdulist.writeto(outputfitsfile,clobber=True)"
   ]
  },
  {
   "cell_type": "code",
   "execution_count": null,
   "metadata": {
    "collapsed": false
   },
   "outputs": [],
   "source": []
  },
  {
   "cell_type": "code",
   "execution_count": null,
   "metadata": {
    "collapsed": false
   },
   "outputs": [],
   "source": []
  },
  {
   "cell_type": "code",
   "execution_count": null,
   "metadata": {
    "collapsed": true
   },
   "outputs": [],
   "source": []
  },
  {
   "cell_type": "code",
   "execution_count": null,
   "metadata": {
    "collapsed": true
   },
   "outputs": [],
   "source": []
  }
 ],
 "metadata": {
  "anaconda-cloud": {},
  "kernelspec": {
   "display_name": "Python [default]",
   "language": "python",
   "name": "python2"
  },
  "language_info": {
   "codemirror_mode": {
    "name": "ipython",
    "version": 2
   },
   "file_extension": ".py",
   "mimetype": "text/x-python",
   "name": "python",
   "nbconvert_exporter": "python",
   "pygments_lexer": "ipython2",
   "version": "2.7.12"
  }
 },
 "nbformat": 4,
 "nbformat_minor": 0
}
