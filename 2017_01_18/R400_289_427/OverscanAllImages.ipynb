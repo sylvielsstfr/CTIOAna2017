{
 "cells": [
  {
   "cell_type": "markdown",
   "metadata": {},
   "source": [
    "# Does the overscan, subtraction and Triming of the CTIO images\n",
    "==================================================================================================\n",
    "- author : Sylvie Dagoret-Campagne\n",
    "- date   : January 18th 2017\n",
    "\n",
    "The library ***overscan_subtract_andTrim*** developped by Augustin Guyonnet is used\n",
    "to produce trim images."
   ]
  },
  {
   "cell_type": "code",
   "execution_count": 2,
   "metadata": {
    "collapsed": true
   },
   "outputs": [],
   "source": [
    "%matplotlib inline\n",
    "import matplotlib.pyplot as plt\n",
    "import numpy as np\n",
    "\n",
    "from astropy.modeling import models\n",
    "from astropy import units as u\n",
    "from astropy import nddata\n",
    "from astropy.io import fits\n",
    "import re\n",
    "import os"
   ]
  },
  {
   "cell_type": "code",
   "execution_count": 3,
   "metadata": {
    "collapsed": true
   },
   "outputs": [],
   "source": [
    "# to enlarge the sizes\n",
    "params = {'legend.fontsize': 'x-large',\n",
    "          'figure.figsize': (8, 8),\n",
    "         'axes.labelsize': 'x-large',\n",
    "         'axes.titlesize':'x-large',\n",
    "         'xtick.labelsize':'x-large',\n",
    "         'ytick.labelsize':'x-large'}\n",
    "plt.rcParams.update(params)"
   ]
  },
  {
   "cell_type": "markdown",
   "metadata": {},
   "source": [
    "### Import Augustin Guyonnet overscan & trimming package"
   ]
  },
  {
   "cell_type": "code",
   "execution_count": 4,
   "metadata": {
    "collapsed": true
   },
   "outputs": [],
   "source": [
    "import overscan_subtract_andTrim as ovsubtrim"
   ]
  },
  {
   "cell_type": "markdown",
   "metadata": {},
   "source": [
    "### Path for raw images"
   ]
  },
  {
   "cell_type": "code",
   "execution_count": 5,
   "metadata": {
    "collapsed": true
   },
   "outputs": [],
   "source": [
    "rootpath_rawimage='/Users/dagoret-campagnesylvie/MacOsX/LSST/MyWork/GitHub/CTIOData2017/2017_01_18/289_427'"
   ]
  },
  {
   "cell_type": "code",
   "execution_count": 6,
   "metadata": {
    "collapsed": true
   },
   "outputs": [],
   "source": [
    "filelist_all=os.listdir(rootpath_rawimage) "
   ]
  },
  {
   "cell_type": "code",
   "execution_count": 7,
   "metadata": {
    "collapsed": false
   },
   "outputs": [
    {
     "data": {
      "text/plain": [
       "['20170118_289.fits',\n",
       " '20170118_290.fits',\n",
       " '20170118_291.fits',\n",
       " '20170118_292.fits',\n",
       " '20170118_293.fits']"
      ]
     },
     "execution_count": 7,
     "metadata": {},
     "output_type": "execute_result"
    }
   ],
   "source": [
    "filelist_all[:5]"
   ]
  },
  {
   "cell_type": "markdown",
   "metadata": {},
   "source": [
    "### select raw images only\n",
    "\n",
    "- filename start with **fileno**\n",
    "- filename stop with **fits** "
   ]
  },
  {
   "cell_type": "code",
   "execution_count": 8,
   "metadata": {
    "collapsed": false
   },
   "outputs": [],
   "source": [
    "filelist_fitsimages= []\n",
    "for filename in filelist_all:\n",
    "    if re.search('^2017.*.fits$',filename):  #example of filename filter\n",
    "        filelist_fitsimages.append(filename)"
   ]
  },
  {
   "cell_type": "code",
   "execution_count": 9,
   "metadata": {
    "collapsed": false
   },
   "outputs": [
    {
     "data": {
      "text/plain": [
       "['20170118_289.fits',\n",
       " '20170118_290.fits',\n",
       " '20170118_291.fits',\n",
       " '20170118_292.fits',\n",
       " '20170118_293.fits']"
      ]
     },
     "execution_count": 9,
     "metadata": {},
     "output_type": "execute_result"
    }
   ],
   "source": [
    "filelist_fitsimages[:5]"
   ]
  },
  {
   "cell_type": "markdown",
   "metadata": {},
   "source": [
    "### outputdir"
   ]
  },
  {
   "cell_type": "code",
   "execution_count": 10,
   "metadata": {
    "collapsed": true
   },
   "outputs": [],
   "source": [
    "############################################################################\n",
    "def ensure_dir(f):\n",
    "    d = os.path.dirname(f)\n",
    "    if not os.path.exists(f):\n",
    "        os.makedirs(f)\n",
    "#########################################################################"
   ]
  },
  {
   "cell_type": "code",
   "execution_count": 11,
   "metadata": {
    "collapsed": true
   },
   "outputs": [],
   "source": [
    "outputdir=\"./trim_images\""
   ]
  },
  {
   "cell_type": "code",
   "execution_count": 12,
   "metadata": {
    "collapsed": false
   },
   "outputs": [],
   "source": [
    "ensure_dir(outputdir)"
   ]
  },
  {
   "cell_type": "markdown",
   "metadata": {},
   "source": [
    "### Do the overscan and the subtraction and the trimming"
   ]
  },
  {
   "cell_type": "code",
   "execution_count": 13,
   "metadata": {
    "collapsed": false
   },
   "outputs": [
    {
     "name": "stderr",
     "output_type": "stream",
     "text": [
      "WARNING: AstropyDeprecationWarning: \"clobber\" was deprecated in version 1.3 and will be removed in a future version. Use argument \"overwrite\" instead. [astropy.utils.decorators]\n",
      "WARNING:astropy:AstropyDeprecationWarning: \"clobber\" was deprecated in version 1.3 and will be removed in a future version. Use argument \"overwrite\" instead.\n"
     ]
    },
    {
     "name": "stdout",
     "output_type": "stream",
     "text": [
      "20170118_289.fits\n",
      "20170118_290.fits\n",
      "20170118_291.fits\n",
      "20170118_292.fits\n",
      "20170118_293.fits\n",
      "20170118_294.fits\n",
      "20170118_295.fits\n",
      "20170118_296.fits\n",
      "20170118_297.fits\n",
      "20170118_298.fits\n",
      "20170118_299.fits\n",
      "20170118_300.fits\n",
      "20170118_301.fits\n",
      "20170118_302.fits\n",
      "20170118_303.fits\n",
      "20170118_304.fits\n",
      "20170118_305.fits\n",
      "20170118_306.fits\n",
      "20170118_307.fits\n",
      "20170118_308.fits\n",
      "20170118_309.fits\n",
      "20170118_310.fits\n",
      "20170118_311.fits\n",
      "20170118_312.fits\n",
      "20170118_313.fits\n",
      "20170118_314.fits\n",
      "20170118_315.fits\n",
      "20170118_316.fits\n",
      "20170118_317.fits\n",
      "20170118_318.fits\n",
      "20170118_319.fits\n",
      "20170118_320.fits\n",
      "20170118_321.fits\n",
      "20170118_322.fits\n",
      "20170118_323.fits\n",
      "20170118_324.fits\n",
      "20170118_325.fits\n",
      "20170118_326.fits\n",
      "20170118_327.fits\n",
      "20170118_328.fits\n",
      "20170118_329.fits\n",
      "20170118_330.fits\n",
      "20170118_331.fits\n",
      "20170118_332.fits\n",
      "20170118_333.fits\n",
      "20170118_334.fits\n",
      "20170118_335.fits\n",
      "20170118_336.fits\n",
      "20170118_337.fits\n",
      "20170118_338.fits\n",
      "20170118_339.fits\n",
      "20170118_340.fits\n",
      "20170118_341.fits\n",
      "20170118_342.fits\n",
      "20170118_343.fits\n",
      "20170118_344.fits\n",
      "20170118_345.fits\n",
      "20170118_346.fits\n",
      "20170118_347.fits\n",
      "20170118_348.fits\n",
      "20170118_349.fits\n",
      "20170118_350.fits\n",
      "20170118_351.fits\n",
      "20170118_352.fits\n",
      "20170118_353.fits\n",
      "20170118_354.fits\n",
      "20170118_355.fits\n",
      "20170118_356.fits\n",
      "20170118_357.fits\n",
      "20170118_358.fits\n",
      "20170118_359.fits\n",
      "20170118_360.fits\n",
      "20170118_361.fits\n",
      "20170118_362.fits\n",
      "20170118_363.fits\n",
      "20170118_364.fits\n",
      "20170118_365.fits\n",
      "20170118_366.fits\n",
      "20170118_367.fits\n",
      "20170118_368.fits\n",
      "20170118_369.fits\n",
      "20170118_370.fits\n",
      "20170118_371.fits\n",
      "20170118_372.fits\n",
      "20170118_373.fits\n",
      "20170118_374.fits\n",
      "20170118_375.fits\n",
      "20170118_376.fits\n",
      "20170118_377.fits\n",
      "20170118_378.fits\n",
      "20170118_379.fits\n",
      "20170118_380.fits\n",
      "20170118_381.fits\n",
      "20170118_382.fits\n",
      "20170118_383.fits\n",
      "20170118_384.fits\n",
      "20170118_385.fits\n",
      "20170118_386.fits\n",
      "20170118_387.fits\n",
      "20170118_388.fits\n",
      "20170118_389.fits\n",
      "20170118_390.fits\n",
      "20170118_391.fits\n",
      "20170118_392.fits\n",
      "20170118_393.fits\n",
      "20170118_394.fits\n",
      "20170118_395.fits\n",
      "20170118_396.fits\n",
      "20170118_397.fits\n",
      "20170118_398.fits\n",
      "20170118_399.fits\n",
      "20170118_400.fits\n",
      "20170118_401.fits\n",
      "20170118_402.fits\n",
      "20170118_403.fits\n",
      "20170118_404.fits\n",
      "20170118_405.fits\n",
      "20170118_406.fits\n",
      "20170118_407.fits\n",
      "20170118_408.fits\n",
      "20170118_409.fits\n",
      "20170118_410.fits\n",
      "20170118_411.fits\n",
      "20170118_412.fits\n",
      "20170118_413.fits\n",
      "20170118_414.fits\n",
      "20170118_415.fits\n",
      "20170118_416.fits\n",
      "20170118_417.fits\n",
      "20170118_418.fits\n",
      "20170118_419.fits\n",
      "20170118_420.fits\n",
      "20170118_421.fits\n",
      "20170118_422.fits\n",
      "20170118_423.fits\n",
      "20170118_424.fits\n",
      "20170118_425.fits\n",
      "20170118_426.fits\n",
      "20170118_427.fits\n"
     ]
    }
   ],
   "source": [
    "for file in filelist_fitsimages:\n",
    "    print file\n",
    "    fullfilename=os.path.join(rootpath_rawimage,file)\n",
    "    ovsubtrim.Do_overscan_subtract_andTrim(fullfilename)"
   ]
  },
  {
   "cell_type": "markdown",
   "metadata": {
    "collapsed": false
   },
   "source": [
    "## Now in shell do mv trim_*.fits ${outputdir}/."
   ]
  },
  {
   "cell_type": "code",
   "execution_count": null,
   "metadata": {
    "collapsed": true
   },
   "outputs": [],
   "source": []
  }
 ],
 "metadata": {
  "anaconda-cloud": {},
  "kernelspec": {
   "display_name": "Python [conda env:pyastrophys]",
   "language": "python",
   "name": "conda-env-pyastrophys-py"
  },
  "language_info": {
   "codemirror_mode": {
    "name": "ipython",
    "version": 2
   },
   "file_extension": ".py",
   "mimetype": "text/x-python",
   "name": "python",
   "nbconvert_exporter": "python",
   "pygments_lexer": "ipython2",
   "version": "2.7.12"
  }
 },
 "nbformat": 4,
 "nbformat_minor": 0
}
