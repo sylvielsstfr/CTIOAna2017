{
 "cells": [
  {
   "cell_type": "markdown",
   "metadata": {},
   "source": [
    "# Does the overscan, subtraction and Triming of the CTIO images\n",
    "==================================================================================================\n",
    "- author : Sylvie Dagoret-Campagne\n",
    "- date   : January 18th 2017\n",
    "\n",
    "The library ***overscan_subtract_andTrim*** developped by Augustin Guyonnet is used\n",
    "to produce trim images."
   ]
  },
  {
   "cell_type": "code",
   "execution_count": 18,
   "metadata": {
    "collapsed": true
   },
   "outputs": [],
   "source": [
    "%matplotlib inline\n",
    "import matplotlib.pyplot as plt\n",
    "import numpy as np\n",
    "\n",
    "from astropy.modeling import models\n",
    "from astropy import units as u\n",
    "from astropy import nddata\n",
    "from astropy.io import fits\n",
    "import re\n",
    "import os"
   ]
  },
  {
   "cell_type": "code",
   "execution_count": 19,
   "metadata": {
    "collapsed": true
   },
   "outputs": [],
   "source": [
    "# to enlarge the sizes\n",
    "params = {'legend.fontsize': 'x-large',\n",
    "          'figure.figsize': (8, 8),\n",
    "         'axes.labelsize': 'x-large',\n",
    "         'axes.titlesize':'x-large',\n",
    "         'xtick.labelsize':'x-large',\n",
    "         'ytick.labelsize':'x-large'}\n",
    "plt.rcParams.update(params)"
   ]
  },
  {
   "cell_type": "markdown",
   "metadata": {},
   "source": [
    "### Import Augustin Guyonnet overscan & trimming package"
   ]
  },
  {
   "cell_type": "code",
   "execution_count": 20,
   "metadata": {
    "collapsed": true
   },
   "outputs": [],
   "source": [
    "import overscan_subtract_andTrim as ovsubtrim"
   ]
  },
  {
   "cell_type": "markdown",
   "metadata": {},
   "source": [
    "### Path for raw images"
   ]
  },
  {
   "cell_type": "code",
   "execution_count": 21,
   "metadata": {
    "collapsed": true
   },
   "outputs": [],
   "source": [
    "rootpath_rawimage='/Users/dagoret-campagnesylvie/MacOsX/LSST/MyWork/GitHub/CTIOData2017/2017_01_17'"
   ]
  },
  {
   "cell_type": "code",
   "execution_count": 22,
   "metadata": {
    "collapsed": true
   },
   "outputs": [],
   "source": [
    "filelist_all=os.listdir(rootpath_rawimage) "
   ]
  },
  {
   "cell_type": "code",
   "execution_count": 23,
   "metadata": {
    "collapsed": false
   },
   "outputs": [
    {
     "data": {
      "text/plain": [
       "['20170117_092.fits',\n",
       " '20170117_093.fits',\n",
       " '20170117_094.fits',\n",
       " '20170117_095.fits',\n",
       " '20170117_096.fits']"
      ]
     },
     "execution_count": 23,
     "metadata": {},
     "output_type": "execute_result"
    }
   ],
   "source": [
    "filelist_all[:5]"
   ]
  },
  {
   "cell_type": "markdown",
   "metadata": {},
   "source": [
    "### select raw images only\n",
    "\n",
    "- filename start with **fileno**\n",
    "- filename stop with **fits** "
   ]
  },
  {
   "cell_type": "code",
   "execution_count": 24,
   "metadata": {
    "collapsed": false
   },
   "outputs": [],
   "source": [
    "filelist_fitsimages= []\n",
    "for filename in filelist_all:\n",
    "    if re.search('^2017.*.fits$',filename):  #example of filename filter\n",
    "        filelist_fitsimages.append(filename)"
   ]
  },
  {
   "cell_type": "code",
   "execution_count": 25,
   "metadata": {
    "collapsed": false
   },
   "outputs": [
    {
     "data": {
      "text/plain": [
       "['20170117_092.fits',\n",
       " '20170117_093.fits',\n",
       " '20170117_094.fits',\n",
       " '20170117_095.fits',\n",
       " '20170117_096.fits']"
      ]
     },
     "execution_count": 25,
     "metadata": {},
     "output_type": "execute_result"
    }
   ],
   "source": [
    "filelist_fitsimages[:5]"
   ]
  },
  {
   "cell_type": "markdown",
   "metadata": {},
   "source": [
    "### outputdir"
   ]
  },
  {
   "cell_type": "code",
   "execution_count": 26,
   "metadata": {
    "collapsed": true
   },
   "outputs": [],
   "source": [
    "############################################################################\n",
    "def ensure_dir(f):\n",
    "    d = os.path.dirname(f)\n",
    "    if not os.path.exists(f):\n",
    "        os.makedirs(f)\n",
    "#########################################################################"
   ]
  },
  {
   "cell_type": "code",
   "execution_count": 27,
   "metadata": {
    "collapsed": true
   },
   "outputs": [],
   "source": [
    "outputdir=\"./trim_images\""
   ]
  },
  {
   "cell_type": "code",
   "execution_count": 1,
   "metadata": {
    "collapsed": false
   },
   "outputs": [
    {
     "ename": "NameError",
     "evalue": "name 'ensure_dir' is not defined",
     "output_type": "error",
     "traceback": [
      "\u001b[0;31m---------------------------------------------------------------------------\u001b[0m",
      "\u001b[0;31mNameError\u001b[0m                                 Traceback (most recent call last)",
      "\u001b[0;32m<ipython-input-1-3c727866323e>\u001b[0m in \u001b[0;36m<module>\u001b[0;34m()\u001b[0m\n\u001b[0;32m----> 1\u001b[0;31m \u001b[0mensure_dir\u001b[0m\u001b[0;34m(\u001b[0m\u001b[0moutputdir\u001b[0m\u001b[0;34m)\u001b[0m\u001b[0;34m\u001b[0m\u001b[0m\n\u001b[0m",
      "\u001b[0;31mNameError\u001b[0m: name 'ensure_dir' is not defined"
     ]
    }
   ],
   "source": [
    "ensure_dir(outputdir)"
   ]
  },
  {
   "cell_type": "markdown",
   "metadata": {},
   "source": [
    "### Do the overscan and the subtraction and the trimming"
   ]
  },
  {
   "cell_type": "code",
   "execution_count": 28,
   "metadata": {
    "collapsed": false
   },
   "outputs": [
    {
     "name": "stderr",
     "output_type": "stream",
     "text": [
      "WARNING: AstropyDeprecationWarning: \"clobber\" was deprecated in version 1.3 and will be removed in a future version. Use argument \"overwrite\" instead. [astropy.utils.decorators]\n",
      "WARNING:astropy:AstropyDeprecationWarning: \"clobber\" was deprecated in version 1.3 and will be removed in a future version. Use argument \"overwrite\" instead.\n"
     ]
    },
    {
     "name": "stdout",
     "output_type": "stream",
     "text": [
      "20170117_092.fits\n",
      "20170117_093.fits\n",
      "20170117_094.fits\n",
      "20170117_095.fits\n",
      "20170117_096.fits\n",
      "20170117_097.fits\n",
      "20170117_098.fits\n",
      "20170117_099.fits\n",
      "20170117_100.fits\n",
      "20170117_101.fits\n",
      "20170117_102.fits\n",
      "20170117_103.fits\n",
      "20170117_104.fits\n",
      "20170117_105.fits\n",
      "20170117_106.fits\n",
      "20170117_107.fits\n",
      "20170117_108.fits\n",
      "20170117_109.fits\n",
      "20170117_110.fits\n",
      "20170117_111.fits\n",
      "20170117_112.fits\n",
      "20170117_113.fits\n",
      "20170117_114.fits\n",
      "20170117_115.fits\n",
      "20170117_116.fits\n",
      "20170117_117.fits\n",
      "20170117_118.fits\n",
      "20170117_119.fits\n",
      "20170117_120.fits\n",
      "20170117_121.fits\n",
      "20170117_122.fits\n",
      "20170117_123.fits\n",
      "20170117_124.fits\n",
      "20170117_125.fits\n",
      "20170117_126.fits\n",
      "20170117_127.fits\n",
      "20170117_128.fits\n",
      "20170117_129.fits\n",
      "20170117_130.fits\n",
      "20170117_131.fits\n",
      "20170117_132.fits\n",
      "20170117_133.fits\n",
      "20170117_134.fits\n",
      "20170117_135.fits\n",
      "20170117_136.fits\n",
      "20170117_137.fits\n",
      "20170117_138.fits\n",
      "20170117_139.fits\n",
      "20170117_140.fits\n",
      "20170117_141.fits\n",
      "20170117_142.fits\n",
      "20170117_143.fits\n",
      "20170117_144.fits\n",
      "20170117_145.fits\n",
      "20170117_146.fits\n",
      "20170117_147.fits\n",
      "20170117_148.fits\n",
      "20170117_149.fits\n",
      "20170117_150.fits\n",
      "20170117_151.fits\n",
      "20170117_152.fits\n",
      "20170117_153.fits\n",
      "20170117_154.fits\n",
      "20170117_155.fits\n",
      "20170117_156.fits\n",
      "20170117_157.fits\n",
      "20170117_158.fits\n",
      "20170117_159.fits\n",
      "20170117_160.fits\n",
      "20170117_161.fits\n",
      "20170117_162.fits\n",
      "20170117_163.fits\n",
      "20170117_164.fits\n",
      "20170117_165.fits\n",
      "20170117_166.fits\n",
      "20170117_167.fits\n",
      "20170117_168.fits\n",
      "20170117_169.fits\n",
      "20170117_170.fits\n",
      "20170117_171.fits\n",
      "20170117_172.fits\n",
      "20170117_173.fits\n",
      "20170117_174.fits\n",
      "20170117_175.fits\n",
      "20170117_176.fits\n",
      "20170117_177.fits\n",
      "20170117_178.fits\n",
      "20170117_179.fits\n",
      "20170117_180.fits\n",
      "20170117_181.fits\n",
      "20170117_182.fits\n",
      "20170117_183.fits\n",
      "20170117_184.fits\n",
      "20170117_185.fits\n",
      "20170117_186.fits\n",
      "20170117_187.fits\n",
      "20170117_188.fits\n",
      "20170117_189.fits\n",
      "20170117_190.fits\n",
      "20170117_191.fits\n",
      "20170117_192.fits\n",
      "20170117_193.fits\n",
      "20170117_194.fits\n",
      "20170117_195.fits\n"
     ]
    }
   ],
   "source": [
    "for file in filelist_fitsimages:\n",
    "    print file\n",
    "    fullfilename=os.path.join(rootpath_rawimage,file)\n",
    "    ovsubtrim.Do_overscan_subtract_andTrim(fullfilename)"
   ]
  },
  {
   "cell_type": "markdown",
   "metadata": {
    "collapsed": false
   },
   "source": [
    "## Now in shell do mv trim_*.fits ${outputdir}/."
   ]
  },
  {
   "cell_type": "code",
   "execution_count": null,
   "metadata": {
    "collapsed": true
   },
   "outputs": [],
   "source": []
  }
 ],
 "metadata": {
  "anaconda-cloud": {},
  "kernelspec": {
   "display_name": "Python [conda env:pyastrophys]",
   "language": "python",
   "name": "conda-env-pyastrophys-py"
  },
  "language_info": {
   "codemirror_mode": {
    "name": "ipython",
    "version": 2
   },
   "file_extension": ".py",
   "mimetype": "text/x-python",
   "name": "python",
   "nbconvert_exporter": "python",
   "pygments_lexer": "ipython2",
   "version": "2.7.12"
  }
 },
 "nbformat": 4,
 "nbformat_minor": 0
}
