{
 "cells": [
  {
   "cell_type": "markdown",
   "metadata": {},
   "source": [
    "# Analysis of first image of CTIO data 2017\n",
    "==============================================================="
   ]
  },
  {
   "cell_type": "markdown",
   "metadata": {},
   "source": [
    "\n",
    "- Author : Sylvie Dagoret-Campagne\n",
    "- date:  January 11th 2017\n",
    "\n",
    "Select a fits image and open ds9 with that image\n",
    "\n"
   ]
  },
  {
   "cell_type": "markdown",
   "metadata": {},
   "source": [
    "### Defines packages\n",
    "======================"
   ]
  },
  {
   "cell_type": "code",
   "execution_count": 1,
   "metadata": {
    "collapsed": false
   },
   "outputs": [
    {
     "name": "stdout",
     "output_type": "stream",
     "text": [
      "\n",
      "An instance of ds9 was found to be running before we could\n",
      "start the 'xpans' name server. You will need to perform a\n",
      "bit of manual intervention in order to connect this\n",
      "existing ds9 to Python.\n",
      "\n",
      "For ds9 version 5.7 and beyond, simply register the\n",
      "existing ds9 with the xpans name server by selecting the\n",
      "ds9 File->XPA->Connect menu option. Your ds9 will now be\n",
      "fully accessible to pyds9 (e.g., it appear in the list\n",
      "returned by the ds9_targets() routine).\n",
      "\n",
      "For ds9 versions prior to 5.7, you cannot (easily) register\n",
      "with xpans, but you can view ds9's File->XPA Information\n",
      "menu option and pass the value associated with XPA_METHOD\n",
      "directly to the Python DS9() constructor, e.g.:\n",
      "\n",
      "    d = DS9('a000101:12345')\n",
      "\n",
      "The good news is that new instances of ds9 will be\n",
      "registered with xpans, and will be known to ds9_targets()\n",
      "and the DS9() constructor.\n",
      "\n"
     ]
    }
   ],
   "source": [
    "%matplotlib inline\n",
    "import matplotlib.pyplot as plt\n",
    "import numpy as np\n",
    "import pyds9\n",
    "import os\n",
    "from datetime import datetime, timedelta"
   ]
  },
  {
   "cell_type": "code",
   "execution_count": 2,
   "metadata": {
    "collapsed": false
   },
   "outputs": [],
   "source": [
    "# to enlarge the sizes\n",
    "params = {'legend.fontsize': 'x-large',\n",
    "          'figure.figsize': (10, 10),   #defines the default image size\n",
    "         'axes.labelsize': 'x-large',\n",
    "         'axes.titlesize':'x-large',\n",
    "         'xtick.labelsize':'x-large',\n",
    "         'ytick.labelsize':'x-large'}\n",
    "plt.rcParams.update(params)"
   ]
  },
  {
   "cell_type": "markdown",
   "metadata": {},
   "source": [
    "### defines the input file\n",
    "========================="
   ]
  },
  {
   "cell_type": "code",
   "execution_count": 3,
   "metadata": {
    "collapsed": true
   },
   "outputs": [],
   "source": [
    "path_img='trim_images'\n",
    "file_img='trim_20170117_210.fits'\n",
    "object_name='HD60753'"
   ]
  },
  {
   "cell_type": "code",
   "execution_count": 4,
   "metadata": {
    "collapsed": false
   },
   "outputs": [],
   "source": [
    "fullfile=os.path.join(path_img,file_img)"
   ]
  },
  {
   "cell_type": "markdown",
   "metadata": {},
   "source": [
    "### Open input file\n",
    "==================="
   ]
  },
  {
   "cell_type": "code",
   "execution_count": 5,
   "metadata": {
    "collapsed": false
   },
   "outputs": [
    {
     "name": "stdout",
     "output_type": "stream",
     "text": [
      "None\n"
     ]
    }
   ],
   "source": [
    "print(pyds9.ds9_targets())"
   ]
  },
  {
   "cell_type": "code",
   "execution_count": 6,
   "metadata": {
    "collapsed": false
   },
   "outputs": [],
   "source": [
    "d = pyds9.DS9()"
   ]
  },
  {
   "cell_type": "code",
   "execution_count": 7,
   "metadata": {
    "collapsed": false
   },
   "outputs": [
    {
     "data": {
      "text/plain": [
       "1"
      ]
     },
     "execution_count": 7,
     "metadata": {},
     "output_type": "execute_result"
    }
   ],
   "source": [
    "# define the zoom\n",
    "ds9command='zoom 0.25'\n",
    "d.set(ds9command)\n",
    "# set the scale\n",
    "ds9command='scale histequ zscale'\n",
    "d.set(ds9command)\n",
    "# set the color\n",
    "ds9command='cmap rainbow'\n",
    "d.set(ds9command)\n",
    "ds9command = 'file '+ fullfile\n",
    "d.set(ds9command)  # send the file to the open ds9 session\n"
   ]
  }
 ],
 "metadata": {
  "anaconda-cloud": {},
  "kernelspec": {
   "display_name": "Python [default]",
   "language": "python",
   "name": "python2"
  },
  "language_info": {
   "codemirror_mode": {
    "name": "ipython",
    "version": 2
   },
   "file_extension": ".py",
   "mimetype": "text/x-python",
   "name": "python",
   "nbconvert_exporter": "python",
   "pygments_lexer": "ipython2",
   "version": "2.7.12"
  }
 },
 "nbformat": 4,
 "nbformat_minor": 0
}
