{
 "cells": [
  {
   "cell_type": "markdown",
   "metadata": {},
   "source": [
    "# Does the overscan, subtraction and Triming of the CTIO images\n",
    "==================================================================================================\n",
    "- author : Sylvie Dagoret-Campagne\n",
    "- date   : January 23th 2017\n",
    "\n",
    "The library ***overscan_subtract_andTrim*** developped by Augustin Guyonnet is used\n",
    "to produce trim images."
   ]
  },
  {
   "cell_type": "code",
   "execution_count": 1,
   "metadata": {
    "collapsed": true
   },
   "outputs": [],
   "source": [
    "%matplotlib inline\n",
    "import matplotlib.pyplot as plt\n",
    "import numpy as np\n",
    "\n",
    "from astropy.modeling import models\n",
    "from astropy import units as u\n",
    "from astropy import nddata\n",
    "from astropy.io import fits\n",
    "import re\n",
    "import os"
   ]
  },
  {
   "cell_type": "code",
   "execution_count": 2,
   "metadata": {
    "collapsed": true
   },
   "outputs": [],
   "source": [
    "# to enlarge the sizes\n",
    "params = {'legend.fontsize': 'x-large',\n",
    "          'figure.figsize': (8, 8),\n",
    "         'axes.labelsize': 'x-large',\n",
    "         'axes.titlesize':'x-large',\n",
    "         'xtick.labelsize':'x-large',\n",
    "         'ytick.labelsize':'x-large'}\n",
    "plt.rcParams.update(params)"
   ]
  },
  {
   "cell_type": "markdown",
   "metadata": {},
   "source": [
    "### Import Augustin Guyonnet overscan & trimming package"
   ]
  },
  {
   "cell_type": "code",
   "execution_count": 3,
   "metadata": {
    "collapsed": true
   },
   "outputs": [],
   "source": [
    "import overscan_subtract_andTrim as ovsubtrim"
   ]
  },
  {
   "cell_type": "markdown",
   "metadata": {},
   "source": [
    "### Path for raw images"
   ]
  },
  {
   "cell_type": "code",
   "execution_count": 4,
   "metadata": {
    "collapsed": true
   },
   "outputs": [],
   "source": [
    "rootpath_rawimage='/Users/dagoret-campagnesylvie/MacOsX/LSST/MyWork/GitHub/CTIOData2017/2017_01_17/210_293'"
   ]
  },
  {
   "cell_type": "code",
   "execution_count": 5,
   "metadata": {
    "collapsed": true
   },
   "outputs": [],
   "source": [
    "filelist_all=os.listdir(rootpath_rawimage) "
   ]
  },
  {
   "cell_type": "code",
   "execution_count": 6,
   "metadata": {
    "collapsed": false
   },
   "outputs": [
    {
     "data": {
      "text/plain": [
       "['20170117_210.fits',\n",
       " '20170117_211.fits',\n",
       " '20170117_212.fits',\n",
       " '20170117_213.fits',\n",
       " '20170117_214.fits']"
      ]
     },
     "execution_count": 6,
     "metadata": {},
     "output_type": "execute_result"
    }
   ],
   "source": [
    "filelist_all[:5]"
   ]
  },
  {
   "cell_type": "markdown",
   "metadata": {},
   "source": [
    "### select raw images only\n",
    "\n",
    "- filename start with **fileno**\n",
    "- filename stop with **fits** "
   ]
  },
  {
   "cell_type": "code",
   "execution_count": 7,
   "metadata": {
    "collapsed": false
   },
   "outputs": [],
   "source": [
    "filelist_fitsimages= []\n",
    "for filename in filelist_all:\n",
    "    if re.search('^2017.*.fits$',filename):  #example of filename filter\n",
    "        filelist_fitsimages.append(filename)"
   ]
  },
  {
   "cell_type": "code",
   "execution_count": 8,
   "metadata": {
    "collapsed": false
   },
   "outputs": [
    {
     "data": {
      "text/plain": [
       "['20170117_210.fits',\n",
       " '20170117_211.fits',\n",
       " '20170117_212.fits',\n",
       " '20170117_213.fits',\n",
       " '20170117_214.fits']"
      ]
     },
     "execution_count": 8,
     "metadata": {},
     "output_type": "execute_result"
    }
   ],
   "source": [
    "filelist_fitsimages[:5]"
   ]
  },
  {
   "cell_type": "markdown",
   "metadata": {},
   "source": [
    "### outputdir"
   ]
  },
  {
   "cell_type": "code",
   "execution_count": 9,
   "metadata": {
    "collapsed": true
   },
   "outputs": [],
   "source": [
    "############################################################################\n",
    "def ensure_dir(f):\n",
    "    d = os.path.dirname(f)\n",
    "    if not os.path.exists(f):\n",
    "        os.makedirs(f)\n",
    "#########################################################################"
   ]
  },
  {
   "cell_type": "code",
   "execution_count": 10,
   "metadata": {
    "collapsed": true
   },
   "outputs": [],
   "source": [
    "outputdir=\"./trim_images\""
   ]
  },
  {
   "cell_type": "code",
   "execution_count": 11,
   "metadata": {
    "collapsed": false
   },
   "outputs": [],
   "source": [
    "ensure_dir(outputdir)"
   ]
  },
  {
   "cell_type": "markdown",
   "metadata": {},
   "source": [
    "### Do the overscan and the subtraction and the trimming"
   ]
  },
  {
   "cell_type": "code",
   "execution_count": 12,
   "metadata": {
    "collapsed": false
   },
   "outputs": [
    {
     "name": "stderr",
     "output_type": "stream",
     "text": [
      "WARNING: AstropyDeprecationWarning: \"clobber\" was deprecated in version 1.3 and will be removed in a future version. Use argument \"overwrite\" instead. [astropy.utils.decorators]\n",
      "WARNING:astropy:AstropyDeprecationWarning: \"clobber\" was deprecated in version 1.3 and will be removed in a future version. Use argument \"overwrite\" instead.\n"
     ]
    },
    {
     "name": "stdout",
     "output_type": "stream",
     "text": [
      "20170117_210.fits\n",
      "20170117_211.fits\n",
      "20170117_212.fits\n",
      "20170117_213.fits\n",
      "20170117_214.fits\n",
      "20170117_215.fits\n",
      "20170117_216.fits\n",
      "20170117_217.fits\n",
      "20170117_218.fits\n",
      "20170117_219.fits\n",
      "20170117_220.fits\n",
      "20170117_221.fits\n",
      "20170117_222.fits\n",
      "20170117_223.fits\n",
      "20170117_224.fits\n",
      "20170117_225.fits\n",
      "20170117_226.fits\n",
      "20170117_227.fits\n",
      "20170117_228.fits\n",
      "20170117_229.fits\n",
      "20170117_230.fits\n",
      "20170117_231.fits\n",
      "20170117_232.fits\n",
      "20170117_233.fits\n",
      "20170117_234.fits\n",
      "20170117_235.fits\n",
      "20170117_236.fits\n",
      "20170117_237.fits\n",
      "20170117_238.fits\n",
      "20170117_239.fits\n",
      "20170117_240.fits\n",
      "20170117_241.fits\n",
      "20170117_242.fits\n",
      "20170117_243.fits\n",
      "20170117_244.fits\n",
      "20170117_245.fits\n",
      "20170117_246.fits\n",
      "20170117_247.fits\n",
      "20170117_248.fits\n",
      "20170117_249.fits\n",
      "20170117_250.fits\n",
      "20170117_251.fits\n",
      "20170117_252.fits\n",
      "20170117_253.fits\n",
      "20170117_254.fits\n",
      "20170117_255.fits\n",
      "20170117_256.fits\n",
      "20170117_257.fits\n",
      "20170117_258.fits\n",
      "20170117_259.fits\n",
      "20170117_260.fits\n",
      "20170117_261.fits\n",
      "20170117_262.fits\n",
      "20170117_263.fits\n",
      "20170117_264.fits\n",
      "20170117_265.fits\n",
      "20170117_266.fits\n",
      "20170117_267.fits\n",
      "20170117_268.fits\n",
      "20170117_269.fits\n",
      "20170117_270.fits\n",
      "20170117_271.fits\n",
      "20170117_272.fits\n",
      "20170117_273.fits\n",
      "20170117_274.fits\n",
      "20170117_275.fits\n",
      "20170117_276.fits\n",
      "20170117_277.fits\n",
      "20170117_278.fits\n",
      "20170117_279.fits\n",
      "20170117_280.fits\n",
      "20170117_281.fits\n",
      "20170117_282.fits\n",
      "20170117_283.fits\n",
      "20170117_284.fits\n",
      "20170117_285.fits\n",
      "20170117_286.fits\n",
      "20170117_287.fits\n",
      "20170117_288.fits\n",
      "20170117_289.fits\n",
      "20170117_290.fits\n",
      "20170117_291.fits\n",
      "20170117_292.fits\n",
      "20170117_293.fits\n"
     ]
    }
   ],
   "source": [
    "for file in filelist_fitsimages:\n",
    "    print file\n",
    "    fullfilename=os.path.join(rootpath_rawimage,file)\n",
    "    ovsubtrim.Do_overscan_subtract_andTrim(fullfilename)"
   ]
  },
  {
   "cell_type": "markdown",
   "metadata": {
    "collapsed": false
   },
   "source": [
    "## Now in shell do mv trim_*.fits ${outputdir}/."
   ]
  },
  {
   "cell_type": "code",
   "execution_count": null,
   "metadata": {
    "collapsed": true
   },
   "outputs": [],
   "source": []
  }
 ],
 "metadata": {
  "anaconda-cloud": {},
  "kernelspec": {
   "display_name": "Python [conda env:pyastrophys]",
   "language": "python",
   "name": "conda-env-pyastrophys-py"
  },
  "language_info": {
   "codemirror_mode": {
    "name": "ipython",
    "version": 2
   },
   "file_extension": ".py",
   "mimetype": "text/x-python",
   "name": "python",
   "nbconvert_exporter": "python",
   "pygments_lexer": "ipython2",
   "version": "2.7.12"
  }
 },
 "nbformat": 4,
 "nbformat_minor": 0
}
